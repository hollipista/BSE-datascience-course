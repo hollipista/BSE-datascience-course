{
  "nbformat": 4,
  "nbformat_minor": 0,
  "metadata": {
    "colab": {
      "provenance": [],
      "include_colab_link": true
    },
    "kernelspec": {
      "name": "python3",
      "display_name": "Python 3"
    },
    "language_info": {
      "name": "python"
    }
  },
  "cells": [
    {
      "cell_type": "markdown",
      "metadata": {
        "id": "view-in-github",
        "colab_type": "text"
      },
      "source": [
        "<a href=\"https://colab.research.google.com/github/hollipista/BSE-datascience-course/blob/main/02b_MetaCortex_AAEE_anal_portf.ipynb\" target=\"_parent\"><img src=\"https://colab.research.google.com/assets/colab-badge.svg\" alt=\"Open In Colab\"/></a>"
      ]
    },
    {
      "cell_type": "code",
      "execution_count": 1,
      "metadata": {
        "id": "oSfiRXWLrN2S"
      },
      "outputs": [],
      "source": [
        "import zipfile\n",
        "import numpy as np\n",
        "import pandas as pd\n",
        "import plotly.graph_objects as go\n",
        "import statsmodels.api as sm\n",
        "import gc\n",
        "import requests\n",
        "\n",
        "# Database handler\n",
        "#from sqlalchemy import create_engine, text, MetaData, Table, Column, Integer, Date, String, FLOAT\n",
        "\n",
        "# Necessary for compatibility\n",
        "#from sqlalchemy.dialects.postgresql.base import PGDialect\n",
        "#PGDialect._get_server_version_info = lambda *args: (9, 2)\n",
        "\n",
        "# Necessary for standard t-stat transformation\n",
        "from statistics import NormalDist"
      ]
    },
    {
      "cell_type": "code",
      "source": [
        "# előkészített adatok letöltése és kicsomagolása\n",
        "!wget -O CRSP_data_ready.csv.zip https://www.dropbox.com/scl/fi/nut6nhrndvy5k2cnjt1pb/CRSP_data_ready.csv.zip?rlkey=1zvidp8l8s60pyqjlskh0o8pk&dl=0\n",
        "!wget -O sp500_data_ready.csv.zip https://www.dropbox.com/scl/fi/di2e7ug7c96wekqg450vw/sp500_data_ready.csv.zip?rlkey=42byzuo3p1m4rhqsxrzsx5kwf&dl=0\n",
        "!wget -O ff3_data_ready.csv.zip https://www.dropbox.com/scl/fi/nc9weel4i2hhfpa2tf1qp/ff3_data_ready.csv.zip?rlkey=rmz7g2522c5o0tx0aegdfrewf&dl=0\n",
        "\n",
        "!unzip -n /content/CRSP_data_ready.csv.zip\n",
        "!unzip -n /content/sp500_data_ready.csv.zip\n",
        "!unzip -n /content/ff3_data_ready.csv.zip"
      ],
      "metadata": {
        "colab": {
          "base_uri": "https://localhost:8080/"
        },
        "id": "UKMhMZSirYHE",
        "outputId": "9802455e-84cb-4705-c082-d616e508edcd"
      },
      "execution_count": null,
      "outputs": [
        {
          "output_type": "stream",
          "name": "stdout",
          "text": [
            "--2023-11-26 08:54:22--  https://www.dropbox.com/scl/fi/nut6nhrndvy5k2cnjt1pb/CRSP_data_ready.csv.zip?rlkey=1zvidp8l8s60pyqjlskh0o8pk\n",
            "Resolving www.dropbox.com (www.dropbox.com)... 162.125.3.18, 2620:100:6018:18::a27d:312\n",
            "Connecting to www.dropbox.com (www.dropbox.com)|162.125.3.18|:443... connected.\n",
            "HTTP request sent, awaiting response... 302 Found\n",
            "Location: https://ucf83d2f6c265ba1fdfe5efc4400.dl.dropboxusercontent.com/cd/0/inline/CIQ-E3uJg0AekAy-V8i4qXMh-bZszq7kJ2jRtkNvBEBl-KZmCk6M8_zqS2CLNox7PhjWSgoWH6z52TyEjm24xSnOjwZYv8Gl7FYScBPYthL29qltr_AHEqxfOgDVW6qepQKkVxf9DovkAwTtsOfPJpYs/file# [following]\n",
            "--2023-11-26 08:54:23--  https://ucf83d2f6c265ba1fdfe5efc4400.dl.dropboxusercontent.com/cd/0/inline/CIQ-E3uJg0AekAy-V8i4qXMh-bZszq7kJ2jRtkNvBEBl-KZmCk6M8_zqS2CLNox7PhjWSgoWH6z52TyEjm24xSnOjwZYv8Gl7FYScBPYthL29qltr_AHEqxfOgDVW6qepQKkVxf9DovkAwTtsOfPJpYs/file\n",
            "Resolving ucf83d2f6c265ba1fdfe5efc4400.dl.dropboxusercontent.com (ucf83d2f6c265ba1fdfe5efc4400.dl.dropboxusercontent.com)... 162.125.3.15, 2620:100:6018:15::a27d:30f\n",
            "Connecting to ucf83d2f6c265ba1fdfe5efc4400.dl.dropboxusercontent.com (ucf83d2f6c265ba1fdfe5efc4400.dl.dropboxusercontent.com)|162.125.3.15|:443... connected.\n",
            "HTTP request sent, awaiting response... 302 Found\n",
            "Location: /cd/0/inline2/CIQ3hq8uKNVhDO96gO88I9i53oJTMuX-9fwLm82SE1l8Te1a-w7UUbvSt1Z9JqaVppmuCM12efWbtPVezcy5yu9BvxpWbc5M4buaDLqQmlcaqu9rCr6MccN55ysQiB5qWyTb7pkX9FsAsZVidglgVu2PaccWsJMbVf4--GDNSdEiqkVUfS-MLjxK8hwpzw8fCvRONQpZiPWENH99uHh4woY29ruSQVrCgbXZXM4UkrQgIeImtZnW8AiI0Oa62WK_919UuXLtzOCuwoV41N7iXMJtfwp_e4_Vx3sn7gkin-EA8BZO5ekY1WKFxT4xlk0HIJdf2KCpHYEbcuJpQl_NhF1giPV0-CImimiwkr15kh6BhpyIYwZrlFwnkXLdVlexXiM/file [following]\n",
            "--2023-11-26 08:54:23--  https://ucf83d2f6c265ba1fdfe5efc4400.dl.dropboxusercontent.com/cd/0/inline2/CIQ3hq8uKNVhDO96gO88I9i53oJTMuX-9fwLm82SE1l8Te1a-w7UUbvSt1Z9JqaVppmuCM12efWbtPVezcy5yu9BvxpWbc5M4buaDLqQmlcaqu9rCr6MccN55ysQiB5qWyTb7pkX9FsAsZVidglgVu2PaccWsJMbVf4--GDNSdEiqkVUfS-MLjxK8hwpzw8fCvRONQpZiPWENH99uHh4woY29ruSQVrCgbXZXM4UkrQgIeImtZnW8AiI0Oa62WK_919UuXLtzOCuwoV41N7iXMJtfwp_e4_Vx3sn7gkin-EA8BZO5ekY1WKFxT4xlk0HIJdf2KCpHYEbcuJpQl_NhF1giPV0-CImimiwkr15kh6BhpyIYwZrlFwnkXLdVlexXiM/file\n",
            "Reusing existing connection to ucf83d2f6c265ba1fdfe5efc4400.dl.dropboxusercontent.com:443.\n",
            "HTTP request sent, awaiting response... 200 OK\n",
            "Length: 855775978 (816M) [application/zip]\n",
            "Saving to: ‘CRSP_data_ready.csv.zip’\n",
            "\n",
            "CRSP_data_ready.csv  69%[============>       ] 570.70M  82.8MB/s    eta 3s     "
          ]
        }
      ]
    },
    {
      "cell_type": "code",
      "source": [
        "url = 'https://raw.githubusercontent.com/saintsjd/sic4-list/master/sic-codes.csv'\n",
        "\n",
        "# HTTP GET kérés küldése a fájl letöltéséhez\n",
        "response = requests.get(url)\n",
        "\n",
        "if response.status_code == 200:\n",
        "    # A fájl tartalmának kiírása, ha a letöltés sikeres volt\n",
        "    with open('sic-codes.csv', 'wb') as file:\n",
        "        file.write(response.content)\n",
        "    print('A fájl sikeresen letöltve.')\n",
        "else:\n",
        "    print('Hiba történt a letöltés során. Hibaüzenet:', response.status_code)"
      ],
      "metadata": {
        "id": "C15QcWREoakg"
      },
      "execution_count": null,
      "outputs": []
    },
    {
      "cell_type": "code",
      "source": [
        "url = 'https://www2.census.gov/programs-surveys/cbp/technical-documentation/records-layouts/sic-code-descriptions/sic86_87.txt'\n",
        "\n",
        "# HTTP GET kérés küldése a fájl letöltéséhez\n",
        "response = requests.get(url)\n",
        "\n",
        "if response.status_code == 200:\n",
        "    # A fájl tartalmának kiírása, ha a letöltés sikeres volt\n",
        "    with open('sic-codes2.csv', 'wb') as file:\n",
        "        file.write(response.content)\n",
        "    print('A fájl sikeresen letöltve.')\n",
        "else:\n",
        "    print('Hiba történt a letöltés során. Hibaüzenet:', response.status_code)\n",
        "\n"
      ],
      "metadata": {
        "id": "_H39T741t9O6"
      },
      "execution_count": null,
      "outputs": []
    },
    {
      "cell_type": "code",
      "source": [
        "# Dataframe-ek betöltése\n",
        "crsp = pd.read_csv(\"/content/CRSP_data_ready.csv\", sep=\",\")\n",
        "crsp = crsp[crsp.columns[1:]]\n",
        "gc.collect() # memória takarítás\n",
        "sp500 = pd.read_csv(\"/content/sp500_data_ready.csv\", sep=\",\")\n",
        "ff3 = pd.read_csv(\"/content/ff3_data_ready.csv\", sep=\",\")\n",
        "#sic = pd.read_csv(\"/content/sic-codes.csv\", sep=',')\n",
        "\n",
        "#sic = pd.read_csv(\"/content/sic-codes2.csv\", sep='\\t')\n",
        "#sic[\"SIC\"] = pd.to_numeric(sic['SIC'], errors='coerce')\n",
        "#sic = sic.rename(columns={'NAME   *indicates codes used only in 1986': 'Description'})\n",
        "#sic = sic[~sic['SIC'].isna()]\n",
        "#sic['SIC'] = sic['SIC'].astype(int)\n",
        "#sic.dtypes\n",
        "\n",
        "###############################################################################\n",
        "# Oké, én megint órákat szívtam érdemi eredmény nélkül, illet az érdemi eredmény az,\n",
        "# hogy két forrást is találtam a SIC kódokra és persze egyik lista sem teljes, pedig\n",
        "# mindkettő hivatalos forrásból van.\n",
        "# Elegánsabb lenne mergelni és utána szűrni, de ezt elengedem most. Alább bemásol-\n",
        "# tam azokat a SIC 4-digit kódokat, amikre futtatni szeretnénk, majd egyesével\n",
        "# futtatunk rájuk. Bocs."
      ],
      "metadata": {
        "id": "0rsekWiG5AA0"
      },
      "execution_count": null,
      "outputs": []
    },
    {
      "cell_type": "code",
      "source": [
        "crsp.head()"
      ],
      "metadata": {
        "id": "b8H4XdMDPMK4"
      },
      "execution_count": null,
      "outputs": []
    },
    {
      "cell_type": "code",
      "source": [
        "crsp=crsp[[\"date\", \"PERMNO\", \"SIC\", \"Size\", \"lnRet\"]]\n",
        "gc.collect()"
      ],
      "metadata": {
        "id": "VP03OC1MfBT9"
      },
      "execution_count": null,
      "outputs": []
    },
    {
      "cell_type": "markdown",
      "source": [
        "3482\tSmall Arms Ammunition\n",
        "3483\tAmmunition, Except for Small Arms\n",
        "3484\tSmall Arms\n",
        "\n",
        "7381\tDetective, Guard, and Armored Car Services\n",
        "7382\tSecurity Systems Services\n",
        "\n",
        "6311\tLife Insurance\n",
        "6321\tAccident and Health Insurance\n",
        "6324\tHospital and Medical Service Plans\n",
        "6331\tFire, Marine, and Casualty Insurance\n",
        "6351\tSurety Insurance\n",
        "6361\tTitle Insurance\n",
        "6371\tPension, Health, and Welfare Funds\n",
        "6399\tInsurance Carriers, Not Elsewhere Classified\n",
        "\n",
        "6531\tReal Estate Agents and Managers\n",
        "6798\tReal Estate Investment Trusts\n",
        "\n",
        "4512 Air Transportation, Scheduled\n",
        "4513 Air Courier Services\n",
        "4522 Air Transportation, Nonscheduled\n",
        "4581 Airports, Flying Fields, and Airport Terminal Services\n",
        "\n",
        "4724 Travel Agencies\n",
        "4725 Tour Operators"
      ],
      "metadata": {
        "id": "VBUWXmRpnKf4"
      }
    },
    {
      "cell_type": "markdown",
      "source": [
        "# Légi közlekedés"
      ],
      "metadata": {
        "id": "dXFggLO1H7Kc"
      }
    },
    {
      "cell_type": "code",
      "source": [
        "sic_values = [[3482, 3483, 3484],\n",
        "              [7381, 7382],\n",
        "              [6311, 6321, 6324, 6331, 6351, 6361, 6371, 6399],\n",
        "              [6531, 6798],\n",
        "              [4512, 4513, 4522, 4581],\n",
        "              [4724, 4725]]\n",
        "sic_labels = [\"Arms, ammo\", \"Security, guard\", \"Insurance\",\n",
        "              \"Real est. agent and op.\", \"Air transport\", \"Travel\"]\n",
        "\n",
        "yr = 2002\n",
        "\n",
        "i = 0\n",
        "\n",
        "for i, sic_list in enumerate(sic_values):\n",
        "\n",
        "  # Iparági szűrés\n",
        "  vwp = crsp.loc[crsp[\"SIC\"].isin(sic_list)].copy()\n",
        "\n",
        "  # S&P500 merge-ölés\n",
        "  vwp = vwp.merge(\n",
        "          sp500.rename(columns={\"return_index\": \"market\"})[[\"date\", \"market\"]],\n",
        "          how=\"inner\",\n",
        "          left_on=\"date\",\n",
        "          right_on=\"date\"\n",
        "      )\n",
        "\n",
        "  # FF3 faktorok merge-ölés\n",
        "  vwp = vwp.merge(\n",
        "          ff3[[\"date\", \"Mkt-RF\", \"SMB\", \"HML\", \"RF\"]],\n",
        "          how=\"inner\",\n",
        "          left_on=\"date\",\n",
        "          right_on=\"date\"\n",
        "      )\n",
        "\n",
        "  # Rendezés részvényenként, dátumra\n",
        "  vwp=vwp.sort_values(by=['PERMNO', 'date'])\n",
        "\n",
        "  # évre szűrés\n",
        "  yrstart = str(yr) + \"-01-01\"\n",
        "  yrend = str(yr) + \"-12-31\"\n",
        "  vwp = vwp.loc[(vwp[\"date\"] >= yrstart) & (vwp[\"date\"] <= yrend)].copy()\n",
        "  vwp[\"date\"] = pd.to_datetime(vwp[\"date\"]).dt.date\n",
        "\n",
        "  # Value weighted portfolio képzése\n",
        "  vwp['weight'] = vwp['Size']/vwp.groupby('date')['Size'].transform('sum')\n",
        "  vwp['portflnret'] = vwp['lnRet']*vwp['weight']\n",
        "\n",
        "  vwp['portflnret'] = vwp.groupby('date')['portflnret'].transform('sum')\n",
        "  vwp.drop(columns=['weight', 'lnRet'], inplace=True)\n",
        "  vwp.sort_values('date', ascending=True, inplace=True)\n",
        "  vwp = vwp.drop_duplicates(subset='date', keep='first')\n",
        "  vwp['PERMNO'] = 'Portfolio'\n",
        "\n",
        "  # becslési és eseményablak számítása,\n",
        "  # most itt megelőző naptól t+5-ig\n",
        "  # becslési pedig 150 munkanappal korábbtól 22 munkanappal korábbig\n",
        "  event_date = pd.to_datetime(str(yr) + \"-09-11\").date()\n",
        "  if event_date.isoweekday() in [6, 7]:\n",
        "          event_date = (event_date + pd.offsets.BusinessDay()).date()\n",
        "  event_date\n",
        "  event_dates = [event_date + pd.offsets.BusinessDay(x) for x in range(-1, 6, 1)]\n",
        "  estimation_end = (event_date - pd.offsets.BusinessDay(22)).date()\n",
        "  estimation_start = (event_date - pd.offsets.BusinessDay(150)).date()\n",
        "\n",
        "  # OLS Market modellre és FF3 modellre, majd becslés, AR és t-stat számítás,\n",
        "  # és mindezt beírva táblába\n",
        "  vwp[\"estimation\"] = np.where((vwp[\"date\"] >= estimation_start) & (vwp[\"date\"] <= estimation_end), 1, 0)\n",
        "  vwp[\"event\"] = np.where(vwp[\"date\"].isin([x.date() for x in event_dates]), 1, 0)\n",
        "  vwp = vwp[(vwp[\"estimation\"] == 1) | (vwp[\"event\"] == 1)]\n",
        "  estimation = vwp[\"estimation\"] == 1\n",
        "  # Market modell\n",
        "  model = sm.OLS(endog=vwp[estimation][\"portflnret\"], exog=sm.tools.add_constant(vwp[estimation][\"market\"]))\n",
        "  results = model.fit()\n",
        "  vwp[\"estimated\"] = vwp.apply(lambda x: results.params.const + x[\"market\"] * results.params.market, axis=1)\n",
        "  vwp[\"ar\"] = vwp[\"portflnret\"] - vwp[\"estimated\"]\n",
        "  vwp[\"portflnret\"] - vwp[\"estimated\"]\n",
        "  # FF3 modell\n",
        "  vwp = vwp.rename(columns={'Mkt-RF': 'MktRF'})\n",
        "  modelff3 = sm.OLS(endog=vwp[estimation][\"portflnret\"], exog=sm.tools.add_constant(vwp[estimation][[\"MktRF\", \"SMB\", \"HML\"]]))\n",
        "  resultsff3 = modelff3.fit()\n",
        "  vwp[\"estimatedff3\"] = vwp.apply(lambda x: results.params.const + x[\"MktRF\"] * resultsff3.params.MktRF +\n",
        "                                  x['SMB'] * resultsff3.params.SMB + x['HML'] * resultsff3.params.HML, axis=1)\n",
        "  vwp[\"arff3\"] = vwp[\"portflnret\"] - vwp[\"estimatedff3\"]\n",
        "  # szigma\n",
        "  sigma1nap = np.sqrt((1/vwp[vwp['estimation'] == 1].shape[0] * ((vwp[vwp['estimation'] == 1]['ar'] ** 2).sum())))\n",
        "  sigma1napff3 = np.sqrt((1/vwp[vwp['estimation'] == 1].shape[0] * ((vwp[vwp['estimation'] == 1]['arff3'] ** 2).sum())))\n",
        "  # itt leszűrűnk az eseményablakra\n",
        "  vwp = vwp.loc[vwp[\"event\"] == 1]\n",
        "  # majd T1..T5 kummulált AR-t számolunk, Tetlock eljárásához hasonlóan\n",
        "  # (vagyis ha lenne T-1 vagy T0 AR, akkor T+5-re korrigálna)\n",
        "  vwp[\"window\"] = (pd.Series(range(vwp.shape[0])) - 1).values\n",
        "  sigmawin = np.sqrt((5+1)*sigma1nap)\n",
        "  sigmawinff3 = np.sqrt((5+1)*sigma1napff3)\n",
        "  # kummulált hozam és tesztstatisztikák számítása (modellenként)\n",
        "  vwp[\"car\"] = np.where(vwp['window'] == 5, (vwp[vwp['window'] > 0]['ar']).sum(), np.nan)\n",
        "  vwp['TS'] = np.where(vwp['window'] < 1, vwp['ar'] / sigma1nap, np.nan)\n",
        "  vwp['TS'] = np.where(vwp['window'] == 5, (vwp[vwp['window'] > 0]['ar']).sum() / sigmawin, vwp['TS'])\n",
        "  vwp[\"carff3\"] = np.where(vwp['window'] == 5, (vwp[vwp['window'] > 0]['arff3']).sum(), np.nan)\n",
        "  vwp['TSff3'] = np.where(vwp['window'] < 1, vwp['arff3'] / sigma1napff3, np.nan)\n",
        "  vwp['TSff3'] = np.where(vwp['window'] == 5, (vwp[vwp['window'] > 0]['arff3']).sum() / sigmawinff3, vwp['TSff3'])\n",
        "  vwp.to_csv('0' + str(i) + '_' + str(yr) + '_' + sic_labels[i] + '.csv', index=False, sep=\";\")\n",
        "  i = i + 1"
      ],
      "metadata": {
        "id": "grLQxl8EjAMS"
      },
      "execution_count": null,
      "outputs": []
    },
    {
      "cell_type": "code",
      "source": [
        "vwp"
      ],
      "metadata": {
        "id": "xc--Yt2cB7RP"
      },
      "execution_count": null,
      "outputs": []
    }
  ]
}